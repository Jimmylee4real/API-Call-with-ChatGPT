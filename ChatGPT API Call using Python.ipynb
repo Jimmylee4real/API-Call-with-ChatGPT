{
 "cells": [
  {
   "cell_type": "code",
   "execution_count": 79,
   "id": "8243bd06",
   "metadata": {},
   "outputs": [],
   "source": [
    "# open up your Python environment\n",
    "import os"
   ]
  },
  {
   "cell_type": "code",
   "execution_count": 80,
   "id": "3b890299",
   "metadata": {},
   "outputs": [],
   "source": [
    "# create a new environment variable to store your API key using os\n",
    "os.environ[\"OPENAI_API_KEY\"] = \"YOUR_API_KEY_HERE\""
   ]
  },
  {
   "cell_type": "code",
   "execution_count": 83,
   "id": "7c840dab",
   "metadata": {},
   "outputs": [
    {
     "name": "stdout",
     "output_type": "stream",
     "text": [
      "DEMO key: AvdPsqeLV5x35L6aoxs5T3BlbkFJR2ToGDV73aLOGDGGGG\n"
     ]
    }
   ],
   "source": [
    "# print it out to see if successful\n",
    "print(os.environ.get(\"OPENAI_API_KEY\"))"
   ]
  },
  {
   "cell_type": "markdown",
   "id": "cbbb5b7b",
   "metadata": {},
   "source": [
    "### To access your API key from the .env file"
   ]
  },
  {
   "cell_type": "code",
   "execution_count": 66,
   "id": "3e3c0132",
   "metadata": {},
   "outputs": [],
   "source": [
    "#pip install python-dotenv"
   ]
  },
  {
   "cell_type": "code",
   "execution_count": 67,
   "id": "36ae697c",
   "metadata": {},
   "outputs": [
    {
     "data": {
      "text/plain": [
       "False"
      ]
     },
     "execution_count": 67,
     "metadata": {},
     "output_type": "execute_result"
    }
   ],
   "source": [
    "from dotenv import load_dotenv\n",
    "\n",
    "load_dotenv()"
   ]
  },
  {
   "cell_type": "code",
   "execution_count": 68,
   "id": "0a8478ef",
   "metadata": {},
   "outputs": [],
   "source": [
    "# use your API key to access the OpenAI API here\n",
    "api_key = os.getenv(\"OPENAI_API_KEY\")"
   ]
  },
  {
   "cell_type": "markdown",
   "id": "0c6fd118",
   "metadata": {},
   "source": [
    "### ChatGPT API Call with Python"
   ]
  },
  {
   "cell_type": "code",
   "execution_count": 69,
   "id": "a2268e38",
   "metadata": {},
   "outputs": [],
   "source": [
    "pip install openai"
   ]
  },
  {
   "cell_type": "code",
   "execution_count": 70,
   "id": "6952a71d",
   "metadata": {},
   "outputs": [],
   "source": [
    "import openai\n",
    "\n",
    "# CONNECT TO API KEY\n",
    "openai.api_key = os.getenv(\"OPENAI_API_KEY\")"
   ]
  },
  {
   "cell_type": "markdown",
   "id": "bc730ed7",
   "metadata": {},
   "source": [
    "### First ChatGPT API Call"
   ]
  },
  {
   "cell_type": "code",
   "execution_count": 84,
   "id": "55bb80f6",
   "metadata": {},
   "outputs": [
    {
     "name": "stdout",
     "output_type": "stream",
     "text": [
      "{\n",
      "  \"content\": \"As an AI language model, I can provide you with the definition of FinTech in general. FinTech is a term used to describe the application of modern technology innovations to financial services, such as banking, insurance, and investments. This includes the use of mobile apps, blockchain technology, artificial intelligence, and other digital solutions to deliver financial services in an efficient and cost-effective manner.\\n\\nIn Hong Kong, FinTech is seen as an important sector for the future of its economy, with strong government support and a highly developed financial services industry. The Hong Kong Monetary Authority (HKMA) has been actively promoting the development of FinTech in the territory, including by launching initiatives such as the Hong Kong FinTech Week and the FinTech Innovation Hub.\",\n",
      "  \"role\": \"assistant\"\n",
      "}\n"
     ]
    }
   ],
   "source": [
    "# API call as conversaion\n",
    "completion = openai.ChatCompletion.create(\n",
    "  model=\"gpt-3.5-turbo\",\n",
    "  messages=[\n",
    "    {\"role\": \"user\", \"content\": \"Hey man!\"},\n",
    "      \n",
    "    {\n",
    "     \"content\": \"Hello there! How can I assist you today?\",\n",
    "    \"role\": \"assistant\"       \n",
    "    },\n",
    "      \n",
    "    {\"role\": \"user\",\"content\": \"I am good mate, what is the definition of FinTech in Hong Kong?\"}\n",
    "  ]\n",
    ")\n",
    "\n",
    "print(completion.choices[0].message)\n",
    "\n",
    "# Get just the output string \n",
    "# completion.choices[0].message['content']"
   ]
  },
  {
   "cell_type": "markdown",
   "id": "68ef547b",
   "metadata": {},
   "source": [
    "### Second ChatGPT API Call as system role"
   ]
  },
  {
   "cell_type": "code",
   "execution_count": 77,
   "id": "e65235ca",
   "metadata": {},
   "outputs": [
    {
     "name": "stdout",
     "output_type": "stream",
     "text": [
      "{\n",
      "  \"content\": \"I'm sorry, I can only answer questions related to bedtime. Can I help you with any bedtime-related question?\",\n",
      "  \"role\": \"assistant\"\n",
      "}\n"
     ]
    }
   ],
   "source": [
    "# ChatGPT API System Parameter\n",
    "completion = openai.ChatCompletion.create(\n",
    "  model=\"gpt-3.5-turbo\",\n",
    "  messages=[\n",
    "      # Edit the system\n",
    "      {\"role\":'system','content':'You are very tired and only want to answer questions about bedtime.'},\n",
    "    {\"role\": \"user\", \"content\": \"I am good mate, what is the definition of FinTech in Hong Kong?\"},\n",
    "  ],\n",
    ")\n",
    "\n",
    "print(completion.choices[0].message)"
   ]
  },
  {
   "cell_type": "markdown",
   "id": "9e6484d7",
   "metadata": {},
   "source": [
    "### Interactive ChatGPT API Script"
   ]
  },
  {
   "cell_type": "code",
   "execution_count": 86,
   "id": "ed1bcc2c",
   "metadata": {},
   "outputs": [
    {
     "name": "stdout",
     "output_type": "stream",
     "text": [
      "Type 'quit' to end chat\n",
      "quit\n",
      "I'm sorry to hear that. Is there anything I can do to assist you before you leave?\n"
     ]
    }
   ],
   "source": [
    "print(\"Type 'quit' to end chat\")\n",
    "messages = []\n",
    "user_input = ''\n",
    "while user_input != 'quit':\n",
    "    # Get user input\n",
    "    user_input = input('')\n",
    "    # Add to messages list\n",
    "    messages.append({'role':'user','content':user_input})\n",
    "    # Send to ChatGPT API\n",
    "    completion = openai.ChatCompletion.create(\n",
    "    # use the max_tokens to increase the size of the potential dialogue\n",
    "      max_tokens = 3500,\n",
    "      model=\"gpt-3.5-turbo\",\n",
    "      messages=messages)\n",
    "    # Grab Assistant Messages and append to messages list\n",
    "    reply = completion.choices[0].message\n",
    "    messages.append(reply)\n",
    "    # Print out reply for user to respond to:\n",
    "    print(reply['content'])\n",
    "    # Then we keep this loop going until user says quit"
   ]
  }
 ],
 "metadata": {
  "kernelspec": {
   "display_name": "Python 3 (ipykernel)",
   "language": "python",
   "name": "python3"
  },
  "language_info": {
   "codemirror_mode": {
    "name": "ipython",
    "version": 3
   },
   "file_extension": ".py",
   "mimetype": "text/x-python",
   "name": "python",
   "nbconvert_exporter": "python",
   "pygments_lexer": "ipython3",
   "version": "3.9.13"
  }
 },
 "nbformat": 4,
 "nbformat_minor": 5
}
